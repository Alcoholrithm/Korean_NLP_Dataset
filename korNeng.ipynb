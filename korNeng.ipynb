{
 "cells": [
  {
   "cell_type": "code",
   "execution_count": 1,
   "metadata": {},
   "outputs": [],
   "source": [
    "import torch\n",
    "from torchtext.data.utils import get_tokenizer\n",
    "from collections import Counter\n",
    "from torchtext.vocab import Vocab\n",
    "from torchtext.vocab import build_vocab_from_iterator\n",
    "\n",
    "from konlpy.tag import Hannanum\n",
    "\n",
    "from tqdm import tqdm\n",
    "import pandas as pd\n",
    "import os"
   ]
  },
  {
   "cell_type": "code",
   "execution_count": 2,
   "metadata": {},
   "outputs": [
    {
     "name": "stderr",
     "output_type": "stream",
     "text": [
      "C:\\Users\\kmiii\\.conda\\envs\\py37\\lib\\site-packages\\torchtext\\data\\utils.py:123: UserWarning: Spacy model \"en\" could not be loaded, trying \"en_core_web_sm\" instead\n",
      "  warnings.warn(f'Spacy model \"{language}\" could not be loaded, trying \"{OLD_MODEL_SHORTCUTS[language]}\" instead')\n"
     ]
    }
   ],
   "source": [
    "kor_tokenizer = get_tokenizer(Hannanum().morphs)\n",
    "eng_tokenizer = get_tokenizer('spacy', language='en')"
   ]
  },
  {
   "cell_type": "code",
   "execution_count": 3,
   "metadata": {},
   "outputs": [],
   "source": [
    "def vocab_iterator(strings, tokenizer):\n",
    "    for string_ in tqdm(strings):\n",
    "        yield tokenizer(string_)"
   ]
  },
  {
   "cell_type": "code",
   "execution_count": 4,
   "metadata": {},
   "outputs": [],
   "source": [
    "if os.path.isfile('./datasets/korNeng_corpus/kor_vocab.pt'):\n",
    "    kor_vocab = torch.load('./datasets/korNeng_corpus/kor_vocab.pt')\n",
    "else:\n",
    "    kor_vocab_base = pd.read_csv('./datasets/korNeng_corpus/train_data.csv')['KOR']\n",
    "    kor_vocab = build_vocab_from_iterator(vocab_iterator(kor_vocab_base, kor_tokenizer), specials=['<unk>', '<pad>', '<bos>', '<eos>'], min_freq=5)\n",
    "    kor_vocab.set_default_index(kor_vocab['<unk>'])\n",
    "    torch.save(kor_vocab, './datasets/korNeng_corpus/kor_vocab.pt')"
   ]
  },
  {
   "cell_type": "code",
   "execution_count": 5,
   "metadata": {},
   "outputs": [],
   "source": [
    "if os.path.isfile('./datasets/korNeng_corpus/eng_vocab.pt'):\n",
    "    eng_vocab = torch.load('./datasets/korNeng_corpus/eng_vocab.pt')\n",
    "else:\n",
    "    eng_vocab_base = pd.read_csv('./datasets/korNeng_corpus/train_data.csv')['ENG']\n",
    "    eng_vocab = build_vocab_from_iterator(vocab_iterator(eng_vocab_base, eng_tokenizer), specials=['<unk>', '<pad>', '<bos>', '<eos>'], min_freq=5)\n",
    "    eng_vocab.set_default_index(eng_vocab['<unk>'])\n",
    "    torch.save(eng_vocab, './datasets/korNeng_corpus/eng_vocab.pt')"
   ]
  },
  {
   "cell_type": "code",
   "execution_count": 6,
   "metadata": {},
   "outputs": [],
   "source": [
    "def data_process(file_path):\n",
    "    raw_kor_iter = iter(pd.read_csv(file_path)['KOR'])\n",
    "    raw_eng_iter = iter(pd.read_csv(file_path)['ENG'])\n",
    "    data = []\n",
    "    for (raw_kor, raw_eng) in tqdm(zip(raw_kor_iter, raw_eng_iter)):\n",
    "        kor_tensor_ = torch.tensor([kor_vocab[token] for token in kor_tokenizer(raw_kor)], dtype = torch.long)\n",
    "        eng_tensor_ = torch.tensor([eng_vocab[token] for token in eng_tokenizer(raw_eng)], dtype = torch.long)\n",
    "\n",
    "        data.append((kor_tensor_, eng_tensor_))\n",
    "\n",
    "    return data\n"
   ]
  },
  {
   "cell_type": "code",
   "execution_count": 7,
   "metadata": {},
   "outputs": [],
   "source": [
    "if os.path.isfile('./datasets/korNeng_corpus/train_tensor.pt'):\n",
    "    train_data = torch.load('./datasets/korNeng_corpus/train_tensor.pt')\n",
    "else:\n",
    "    train_data = data_process('./datasets/korNeng_corpus/train_data.csv')\n",
    "    torch.save(train_data, './datasets/korNeng_corpus/train_tensor.pt')"
   ]
  },
  {
   "cell_type": "code",
   "execution_count": 8,
   "metadata": {},
   "outputs": [],
   "source": [
    "if os.path.isfile('./datasets/korNeng_corpus/valid_tensor.pt'):\n",
    "    valid_data = torch.load('./datasets/korNeng_corpus/valid_tensor.pt')\n",
    "else:\n",
    "    valid_data = data_process('./datasets/korNeng_corpus/validation_data.csv')\n",
    "    torch.save(valid_data, './datasets/korNeng_corpus/valid_tensor.pt')"
   ]
  },
  {
   "cell_type": "code",
   "execution_count": 9,
   "metadata": {},
   "outputs": [],
   "source": [
    "if os.path.isfile('./datasets/korNeng_corpus/test_tensor.pt'):\n",
    "    test_data = torch.load('./datasets/korNeng_corpus/test_tensor.pt')\n",
    "else:\n",
    "    test_data = data_process('./datasets/korNeng_corpus/test_data.csv')\n",
    "    torch.save(test_data, './datasets/korNeng_corpus/test_tensor.pt')"
   ]
  },
  {
   "cell_type": "code",
   "execution_count": 11,
   "metadata": {},
   "outputs": [],
   "source": [
    "from torch.nn.utils.rnn import pad_sequence\n",
    "from torch.utils.data import DataLoader\n",
    "\n",
    "BATCH_SIZE = 128\n",
    "PAD_IDX = kor_vocab['<pad>']\n",
    "BOS_IDX = kor_vocab['<bos>']\n",
    "EOS_IDX = kor_vocab['<eos>']\n",
    "device = torch.device('cuda')\n",
    "\n",
    "def generate_batch(data_batch):\n",
    "    kor_batch, eng_batch = [], []\n",
    "    for (kor_item, eng_item) in data_batch:\n",
    "        kor_batch.append(torch.cat([torch.tensor([BOS_IDX]), kor_item, torch.tensor([EOS_IDX])], dim=0))\n",
    "        eng_batch.append(torch.cat([torch.tensor([BOS_IDX]), eng_item, torch.tensor([EOS_IDX])], dim=0))\n",
    "    kor_batch = pad_sequence(kor_batch, padding_value=PAD_IDX)\n",
    "    eng_batch = pad_sequence(eng_batch, padding_value=PAD_IDX)\n",
    "    return kor_batch, eng_batch\n",
    "\n",
    "train_iter = DataLoader(train_data, batch_size=BATCH_SIZE,\n",
    "                        shuffle=True, collate_fn=generate_batch)\n",
    "valid_iter = DataLoader(valid_data, batch_size=BATCH_SIZE,\n",
    "                        shuffle=True, collate_fn=generate_batch)\n",
    "test_iter = DataLoader(test_data, batch_size=BATCH_SIZE,\n",
    "                       shuffle=True, collate_fn=generate_batch)"
   ]
  }
 ],
 "metadata": {
  "interpreter": {
   "hash": "78f7fc97bf5f739df685398a6b375f5a3b22935caa8ea8f31ce823c485c184ce"
  },
  "kernelspec": {
   "display_name": "Python 3.7.11 64-bit ('py37': conda)",
   "language": "python",
   "name": "python3"
  },
  "language_info": {
   "codemirror_mode": {
    "name": "ipython",
    "version": 3
   },
   "file_extension": ".py",
   "mimetype": "text/x-python",
   "name": "python",
   "nbconvert_exporter": "python",
   "pygments_lexer": "ipython3",
   "version": "3.7.11"
  },
  "orig_nbformat": 4
 },
 "nbformat": 4,
 "nbformat_minor": 2
}
